{
 "cells": [
  {
   "cell_type": "markdown",
   "id": "2ad24d38-6d57-470c-adb3-1729a299894e",
   "metadata": {},
   "source": [
    "<h1 align=center><font size = 5>Scraping Wikipedia Data</font></h1>"
   ]
  },
  {
   "cell_type": "markdown",
   "id": "245f2cbd-1296-4526-93cd-e0d38d6b66b7",
   "metadata": {},
   "source": [
    "### Install Beautiful Soup package"
   ]
  },
  {
   "cell_type": "code",
   "execution_count": 125,
   "id": "f8aefaa8-3ad4-40b8-ac40-b173643492a4",
   "metadata": {},
   "outputs": [
    {
     "name": "stdout",
     "output_type": "stream",
     "text": [
      "Requirement already satisfied: bs4 in /home/jupyterlab/conda/envs/python/lib/python3.6/site-packages (0.0.1)\n",
      "Requirement already satisfied: beautifulsoup4 in /home/jupyterlab/conda/envs/python/lib/python3.6/site-packages (from bs4) (4.9.3)\n",
      "Requirement already satisfied: soupsieve>1.2; python_version >= \"3.0\" in /home/jupyterlab/conda/envs/python/lib/python3.6/site-packages (from beautifulsoup4->bs4) (2.2.1)\n"
     ]
    }
   ],
   "source": [
    "!pip install bs4"
   ]
  },
  {
   "cell_type": "markdown",
   "id": "86515e7b-c0e4-45cc-8a72-8df37f0ca64c",
   "metadata": {},
   "source": [
    "### Import libraries"
   ]
  },
  {
   "cell_type": "code",
   "execution_count": 111,
   "id": "52878fe6-6401-484a-9580-29343a07000c",
   "metadata": {},
   "outputs": [],
   "source": [
    "from bs4 import BeautifulSoup\n",
    "import pandas as pd"
   ]
  },
  {
   "cell_type": "markdown",
   "id": "a3de208e-9e0e-4982-aeca-d0fb89756adf",
   "metadata": {},
   "source": [
    "### Download the wikipedia url"
   ]
  },
  {
   "cell_type": "code",
   "execution_count": 127,
   "id": "a3229bdf-b200-41bc-bd31-e72f74b8e943",
   "metadata": {},
   "outputs": [
    {
     "name": "stdout",
     "output_type": "stream",
     "text": [
      "--2021-06-25 04:01:47--  https://en.wikipedia.org/wiki/List_of_postal_codes_of_Canada:_M\n",
      "Resolving en.wikipedia.org (en.wikipedia.org)... 208.80.154.224, 2620:0:861:ed1a::1\n",
      "Connecting to en.wikipedia.org (en.wikipedia.org)|208.80.154.224|:443... connected.\n",
      "HTTP request sent, awaiting response... 200 OK\n",
      "Length: 83382 (81K) [text/html]\n",
      "Saving to: ‘toronto_postalcodes.html’\n",
      "\n",
      "toronto_postalcodes 100%[===================>]  81.43K  --.-KB/s    in 0.002s  \n",
      "\n",
      "2021-06-25 04:01:47 (45.2 MB/s) - ‘toronto_postalcodes.html’ saved [83382/83382]\n",
      "\n"
     ]
    }
   ],
   "source": [
    "!wget https://en.wikipedia.org/wiki/List_of_postal_codes_of_Canada:_M -O toronto_postalcodes.html"
   ]
  },
  {
   "cell_type": "markdown",
   "id": "e747ae5a-f737-41ad-af37-ce795a27bb18",
   "metadata": {},
   "source": [
    "### Read the wikipedia html data"
   ]
  },
  {
   "cell_type": "code",
   "execution_count": 58,
   "id": "f6ef8ba0-02db-4ed6-b0c2-7b0add041587",
   "metadata": {},
   "outputs": [],
   "source": [
    "html = ''.join(open(\"toronto_postalcodes.html\").readlines())"
   ]
  },
  {
   "cell_type": "markdown",
   "id": "4527f075-cb68-460f-8bbf-8fb5a5b70906",
   "metadata": {},
   "source": [
    "### Process wikipedea data into dataframe"
   ]
  },
  {
   "cell_type": "code",
   "execution_count": 128,
   "id": "76e713e1-b7b2-4324-8816-a26f9da0557b",
   "metadata": {},
   "outputs": [],
   "source": [
    "soup = BeautifulSoup(html, 'html.parser')\n",
    "table_contents=[]\n",
    "table = soup.find('table')\n",
    "for row in table.findAll('td'):\n",
    "    cell = {}\n",
    "    if row.span.text=='Not assigned':\n",
    "        pass\n",
    "    else:\n",
    "        cell['PostalCode'] = row.p.text[:3]\n",
    "        cell['Borough'] = row.span.text.split('(')[0]\n",
    "        cell['Neighborhood'] = (((((row.span.text).split('(')[1]).strip(')')).replace(' /',',')).replace(')',' ')).strip(' ')\n",
    "        table_contents.append(cell)"
   ]
  },
  {
   "cell_type": "code",
   "execution_count": 129,
   "id": "f9be2e9a-f446-4ce1-8573-00af211fd9ff",
   "metadata": {},
   "outputs": [],
   "source": [
    "df=pd.DataFrame(table_contents)\n",
    "df['Borough']=df['Borough'].replace({'Downtown TorontoStn A PO Boxes25 The Esplanade':'Downtown Toronto Stn A',\n",
    "                                             'East TorontoBusiness reply mail Processing Centre969 Eastern':'East Toronto Business',\n",
    "                                             'EtobicokeNorthwest':'Etobicoke Northwest','East YorkEast Toronto':'East York/East Toronto',\n",
    "                                             'MississaugaCanada Post Gateway Processing Centre':'Mississauga'})"
   ]
  },
  {
   "cell_type": "code",
   "execution_count": 130,
   "id": "7ba8348d-5365-44e0-93fc-bc93a37b8963",
   "metadata": {},
   "outputs": [
    {
     "data": {
      "text/plain": [
       "(103, 3)"
      ]
     },
     "execution_count": 130,
     "metadata": {},
     "output_type": "execute_result"
    }
   ],
   "source": [
    "df.shape"
   ]
  }
 ],
 "metadata": {
  "kernelspec": {
   "display_name": "Python",
   "language": "python",
   "name": "conda-env-python-py"
  },
  "language_info": {
   "codemirror_mode": {
    "name": "ipython",
    "version": 3
   },
   "file_extension": ".py",
   "mimetype": "text/x-python",
   "name": "python",
   "nbconvert_exporter": "python",
   "pygments_lexer": "ipython3",
   "version": "3.6.13"
  }
 },
 "nbformat": 4,
 "nbformat_minor": 5
}
