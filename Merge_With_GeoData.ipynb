{
 "cells": [
  {
   "cell_type": "markdown",
   "id": "2ad24d38-6d57-470c-adb3-1729a299894e",
   "metadata": {},
   "source": [
    "<h1 align=center><font size = 5>Scraping Wikipedia Data</font></h1>"
   ]
  },
  {
   "cell_type": "markdown",
   "id": "245f2cbd-1296-4526-93cd-e0d38d6b66b7",
   "metadata": {},
   "source": [
    "### Install Beautiful Soup package"
   ]
  },
  {
   "cell_type": "code",
   "execution_count": 1,
   "id": "f8aefaa8-3ad4-40b8-ac40-b173643492a4",
   "metadata": {},
   "outputs": [
    {
     "name": "stdout",
     "output_type": "stream",
     "text": [
      "Requirement already satisfied: bs4 in /home/jupyterlab/conda/envs/python/lib/python3.6/site-packages (0.0.1)\n",
      "Requirement already satisfied: beautifulsoup4 in /home/jupyterlab/conda/envs/python/lib/python3.6/site-packages (from bs4) (4.9.3)\n",
      "Requirement already satisfied: soupsieve>1.2; python_version >= \"3.0\" in /home/jupyterlab/conda/envs/python/lib/python3.6/site-packages (from beautifulsoup4->bs4) (2.2.1)\n"
     ]
    }
   ],
   "source": [
    "!pip install bs4"
   ]
  },
  {
   "cell_type": "markdown",
   "id": "86515e7b-c0e4-45cc-8a72-8df37f0ca64c",
   "metadata": {},
   "source": [
    "### Import libraries"
   ]
  },
  {
   "cell_type": "code",
   "execution_count": 2,
   "id": "52878fe6-6401-484a-9580-29343a07000c",
   "metadata": {},
   "outputs": [],
   "source": [
    "from bs4 import BeautifulSoup\n",
    "import pandas as pd"
   ]
  },
  {
   "cell_type": "markdown",
   "id": "a3de208e-9e0e-4982-aeca-d0fb89756adf",
   "metadata": {},
   "source": [
    "### Download the wikipedia url"
   ]
  },
  {
   "cell_type": "code",
   "execution_count": 3,
   "id": "a3229bdf-b200-41bc-bd31-e72f74b8e943",
   "metadata": {},
   "outputs": [
    {
     "name": "stdout",
     "output_type": "stream",
     "text": [
      "--2021-06-25 04:19:55--  https://en.wikipedia.org/wiki/List_of_postal_codes_of_Canada:_M\n",
      "Resolving en.wikipedia.org (en.wikipedia.org)... 198.35.26.96, 2620:0:863:ed1a::1\n",
      "Connecting to en.wikipedia.org (en.wikipedia.org)|198.35.26.96|:443... connected.\n",
      "HTTP request sent, awaiting response... 200 OK\n",
      "Length: 83382 (81K) [text/html]\n",
      "Saving to: ‘toronto_postalcodes.html’\n",
      "\n",
      "toronto_postalcodes 100%[===================>]  81.43K   457KB/s    in 0.2s    \n",
      "\n",
      "2021-06-25 04:19:55 (457 KB/s) - ‘toronto_postalcodes.html’ saved [83382/83382]\n",
      "\n"
     ]
    }
   ],
   "source": [
    "!wget https://en.wikipedia.org/wiki/List_of_postal_codes_of_Canada:_M -O toronto_postalcodes.html"
   ]
  },
  {
   "cell_type": "markdown",
   "id": "e747ae5a-f737-41ad-af37-ce795a27bb18",
   "metadata": {},
   "source": [
    "### Read the wikipedia html data"
   ]
  },
  {
   "cell_type": "code",
   "execution_count": 4,
   "id": "f6ef8ba0-02db-4ed6-b0c2-7b0add041587",
   "metadata": {},
   "outputs": [],
   "source": [
    "html = ''.join(open(\"toronto_postalcodes.html\").readlines())"
   ]
  },
  {
   "cell_type": "markdown",
   "id": "4527f075-cb68-460f-8bbf-8fb5a5b70906",
   "metadata": {},
   "source": [
    "### Process wikipedea data into dataframe"
   ]
  },
  {
   "cell_type": "code",
   "execution_count": 5,
   "id": "76e713e1-b7b2-4324-8816-a26f9da0557b",
   "metadata": {},
   "outputs": [],
   "source": [
    "soup = BeautifulSoup(html, 'html.parser')\n",
    "table_contents=[]\n",
    "table = soup.find('table')\n",
    "for row in table.findAll('td'):\n",
    "    cell = {}\n",
    "    if row.span.text=='Not assigned':\n",
    "        pass\n",
    "    else:\n",
    "        cell['PostalCode'] = row.p.text[:3]\n",
    "        cell['Borough'] = row.span.text.split('(')[0]\n",
    "        cell['Neighborhood'] = (((((row.span.text).split('(')[1]).strip(')')).replace(' /',',')).replace(')',' ')).strip(' ')\n",
    "        table_contents.append(cell)"
   ]
  },
  {
   "cell_type": "code",
   "execution_count": 42,
   "id": "f9be2e9a-f446-4ce1-8573-00af211fd9ff",
   "metadata": {},
   "outputs": [],
   "source": [
    "df=pd.DataFrame(table_contents)\n",
    "df['Borough']=df['Borough'].replace({'Downtown TorontoStn A PO Boxes25 The Esplanade':'Downtown Toronto Stn A',\n",
    "                                             'East TorontoBusiness reply mail Processing Centre969 Eastern':'East Toronto Business',\n",
    "                                             'EtobicokeNorthwest':'Etobicoke Northwest','East YorkEast Toronto':'East York/East Toronto',\n",
    "                                             'MississaugaCanada Post Gateway Processing Centre':'Mississauga'})"
   ]
  },
  {
   "cell_type": "code",
   "execution_count": 43,
   "id": "7ba8348d-5365-44e0-93fc-bc93a37b8963",
   "metadata": {},
   "outputs": [
    {
     "data": {
      "text/plain": [
       "(103, 3)"
      ]
     },
     "execution_count": 43,
     "metadata": {},
     "output_type": "execute_result"
    }
   ],
   "source": [
    "df.shape"
   ]
  },
  {
   "cell_type": "markdown",
   "id": "8d285da5-3818-483e-b067-91e49ce2f52b",
   "metadata": {},
   "source": [
    "### Read geospatial coordinates data"
   ]
  },
  {
   "cell_type": "code",
   "execution_count": 44,
   "id": "f94bdb96-d025-4369-be4d-d4707238715f",
   "metadata": {},
   "outputs": [],
   "source": [
    "coords = pd.read_csv('./Geospatial_Coordinates.csv')"
   ]
  },
  {
   "cell_type": "code",
   "execution_count": 50,
   "id": "c4a7dfe1-3c41-4206-8bc0-77be359ce74d",
   "metadata": {},
   "outputs": [],
   "source": [
    "coords.columns = ['PostalCode', 'Latitude', 'Longitude']\n",
    "coords = coords.merge(df)"
   ]
  },
  {
   "cell_type": "code",
   "execution_count": 51,
   "id": "86661d3b-1197-4113-b827-29f9c7303994",
   "metadata": {},
   "outputs": [
    {
     "data": {
      "text/html": [
       "<div>\n",
       "<style scoped>\n",
       "    .dataframe tbody tr th:only-of-type {\n",
       "        vertical-align: middle;\n",
       "    }\n",
       "\n",
       "    .dataframe tbody tr th {\n",
       "        vertical-align: top;\n",
       "    }\n",
       "\n",
       "    .dataframe thead th {\n",
       "        text-align: right;\n",
       "    }\n",
       "</style>\n",
       "<table border=\"1\" class=\"dataframe\">\n",
       "  <thead>\n",
       "    <tr style=\"text-align: right;\">\n",
       "      <th></th>\n",
       "      <th>PostalCode</th>\n",
       "      <th>Latitude</th>\n",
       "      <th>Longitude</th>\n",
       "      <th>Borough</th>\n",
       "      <th>Neighborhood</th>\n",
       "    </tr>\n",
       "  </thead>\n",
       "  <tbody>\n",
       "    <tr>\n",
       "      <th>0</th>\n",
       "      <td>M1B</td>\n",
       "      <td>43.806686</td>\n",
       "      <td>-79.194353</td>\n",
       "      <td>Scarborough</td>\n",
       "      <td>Malvern, Rouge</td>\n",
       "    </tr>\n",
       "    <tr>\n",
       "      <th>1</th>\n",
       "      <td>M1C</td>\n",
       "      <td>43.784535</td>\n",
       "      <td>-79.160497</td>\n",
       "      <td>Scarborough</td>\n",
       "      <td>Rouge Hill, Port Union, Highland Creek</td>\n",
       "    </tr>\n",
       "    <tr>\n",
       "      <th>2</th>\n",
       "      <td>M1E</td>\n",
       "      <td>43.763573</td>\n",
       "      <td>-79.188711</td>\n",
       "      <td>Scarborough</td>\n",
       "      <td>Guildwood, Morningside, West Hill</td>\n",
       "    </tr>\n",
       "    <tr>\n",
       "      <th>3</th>\n",
       "      <td>M1G</td>\n",
       "      <td>43.770992</td>\n",
       "      <td>-79.216917</td>\n",
       "      <td>Scarborough</td>\n",
       "      <td>Woburn</td>\n",
       "    </tr>\n",
       "    <tr>\n",
       "      <th>4</th>\n",
       "      <td>M1H</td>\n",
       "      <td>43.773136</td>\n",
       "      <td>-79.239476</td>\n",
       "      <td>Scarborough</td>\n",
       "      <td>Cedarbrae</td>\n",
       "    </tr>\n",
       "  </tbody>\n",
       "</table>\n",
       "</div>"
      ],
      "text/plain": [
       "  PostalCode   Latitude  Longitude      Borough  \\\n",
       "0        M1B  43.806686 -79.194353  Scarborough   \n",
       "1        M1C  43.784535 -79.160497  Scarborough   \n",
       "2        M1E  43.763573 -79.188711  Scarborough   \n",
       "3        M1G  43.770992 -79.216917  Scarborough   \n",
       "4        M1H  43.773136 -79.239476  Scarborough   \n",
       "\n",
       "                             Neighborhood  \n",
       "0                          Malvern, Rouge  \n",
       "1  Rouge Hill, Port Union, Highland Creek  \n",
       "2       Guildwood, Morningside, West Hill  \n",
       "3                                  Woburn  \n",
       "4                               Cedarbrae  "
      ]
     },
     "execution_count": 51,
     "metadata": {},
     "output_type": "execute_result"
    }
   ],
   "source": [
    "coords.head()"
   ]
  },
  {
   "cell_type": "code",
   "execution_count": null,
   "id": "a7efc75d-dd9d-4ea3-92a3-f27243397391",
   "metadata": {},
   "outputs": [],
   "source": []
  }
 ],
 "metadata": {
  "kernelspec": {
   "display_name": "Python",
   "language": "python",
   "name": "conda-env-python-py"
  },
  "language_info": {
   "codemirror_mode": {
    "name": "ipython",
    "version": 3
   },
   "file_extension": ".py",
   "mimetype": "text/x-python",
   "name": "python",
   "nbconvert_exporter": "python",
   "pygments_lexer": "ipython3",
   "version": "3.6.13"
  }
 },
 "nbformat": 4,
 "nbformat_minor": 5
}
